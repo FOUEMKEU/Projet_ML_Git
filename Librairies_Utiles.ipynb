{
 "cells": [
  {
   "cell_type": "markdown",
   "id": "b520c0be",
   "metadata": {},
   "source": [
    "# Librairies des projets stockés sur le serveur distant GitHub"
   ]
  },
  {
   "cell_type": "code",
   "execution_count": 2,
   "id": "1e9693fb",
   "metadata": {},
   "outputs": [],
   "source": [
    "import pandas as pd\n",
    "import numpy as np\n",
    "import matplotlib.pyplot as plt\n",
    "import seaborn as sns"
   ]
  },
  {
   "cell_type": "code",
   "execution_count": 5,
   "id": "e6ef7406",
   "metadata": {},
   "outputs": [],
   "source": [
    "#Calcul la somme de deux entiers consécutifs:\n",
    "def somme(x):\n",
    "    return x+x+1"
   ]
  },
  {
   "cell_type": "code",
   "execution_count": 6,
   "id": "7b8a463a",
   "metadata": {},
   "outputs": [
    {
     "data": {
      "text/plain": [
       "17"
      ]
     },
     "execution_count": 6,
     "metadata": {},
     "output_type": "execute_result"
    }
   ],
   "source": [
    "somme(8)"
   ]
  }
 ],
 "metadata": {
  "kernelspec": {
   "display_name": "Python 3 (ipykernel)",
   "language": "python",
   "name": "python3"
  },
  "language_info": {
   "codemirror_mode": {
    "name": "ipython",
    "version": 3
   },
   "file_extension": ".py",
   "mimetype": "text/x-python",
   "name": "python",
   "nbconvert_exporter": "python",
   "pygments_lexer": "ipython3",
   "version": "3.11.5"
  }
 },
 "nbformat": 4,
 "nbformat_minor": 5
}
